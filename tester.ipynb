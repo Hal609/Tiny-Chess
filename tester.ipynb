{
 "cells": [
  {
   "cell_type": "code",
   "execution_count": 7,
   "id": "7739e5e5",
   "metadata": {},
   "outputs": [],
   "source": [
    "%reload_ext autoreload\n",
    "%autoreload 2"
   ]
  },
  {
   "cell_type": "code",
   "execution_count": 8,
   "id": "d769f9f0",
   "metadata": {},
   "outputs": [],
   "source": [
    "%config InlineBackend.figure_format = 'retina'"
   ]
  },
  {
   "cell_type": "markdown",
   "id": "0d5d1726",
   "metadata": {
    "papermill": {
     "duration": 0.003547,
     "end_time": "2024-12-04T19:08:53.283960",
     "exception": false,
     "start_time": "2024-12-04T19:08:53.280413",
     "status": "completed"
    },
    "tags": []
   },
   "source": [
    "# FIDE & Google Efficient Chess AI Challenge\n",
    "\n",
    "Welcome! This notebook will familiarize you with using competition's environment, creating an agent, and submitting your first chess bot!"
   ]
  },
  {
   "cell_type": "code",
   "execution_count": 9,
   "id": "43668ecb",
   "metadata": {
    "execution": {
     "iopub.execute_input": "2024-12-04T19:08:53.292319Z",
     "iopub.status.busy": "2024-12-04T19:08:53.291828Z",
     "iopub.status.idle": "2024-12-04T19:08:53.446257Z",
     "shell.execute_reply": "2024-12-04T19:08:53.445214Z"
    },
    "papermill": {
     "duration": 0.161419,
     "end_time": "2024-12-04T19:08:53.448424",
     "exception": false,
     "start_time": "2024-12-04T19:08:53.287005",
     "status": "completed"
    },
    "tags": []
   },
   "outputs": [
    {
     "data": {
      "text/plain": [
       "True"
      ]
     },
     "execution_count": 9,
     "metadata": {},
     "output_type": "execute_result"
    }
   ],
   "source": [
    "# first let's make sure you have internet enabled\n",
    "import requests\n",
    "requests.get('http://www.google.com',timeout=10).ok"
   ]
  },
  {
   "cell_type": "markdown",
   "id": "ba0fcc2f",
   "metadata": {
    "papermill": {
     "duration": 0.002876,
     "end_time": "2024-12-04T19:08:53.454546",
     "exception": false,
     "start_time": "2024-12-04T19:08:53.451670",
     "status": "completed"
    },
    "tags": []
   },
   "source": [
    "#### If you don't have internet access (it doesn't say \"True\" above)\n",
    "1. make sure your account is Phone Verified in [account settings](https://www.kaggle.com/settings)\n",
    "2. make sure internet is turned on in Settings -> Turn on internet"
   ]
  },
  {
   "cell_type": "code",
   "execution_count": 10,
   "id": "5473b46b",
   "metadata": {},
   "outputs": [
    {
     "data": {
      "text/plain": [
       "{'rnbqkbnr/pppppppp/8/8/4P3/8/PPPPPPPP/RNBQKBNR': 'e2e4,',\n",
       " 'rnbqkbnr/pppppppp/8/4p3/4P3/8/PPPPPPPP/RNBQKBNR': 'g1f3,',\n",
       " 'r1bqkbnr/1ppppppp/p7/4p3/4P3/5N2/PPPPPPPP/RNBQK1NR': 'b5a4,',\n",
       " 'r1bqk1nr/1pppppbp/p7/4p3/4P3/5N1P/PPPPPP1P/RNBQ1RK1': 'f1e1,',\n",
       " 'rnbqkbnr/pp1ppppp/8/2p5/4P3/8/PPPP1PPP/RNBQKBNR': 'e2e4,',\n",
       " 'rnbqkbnr/pp1p1ppp/8/2p5/3PP3/5N2/PPP2PPP/RNBQKB1R': 'd2d4,',\n",
       " 'rnbqkbnr/1p1p1ppp/p7/2p5/3PN3/2N5/PPP2PPP/RNBQKB1R': 'a7a6,',\n",
       " 'rnbqkbnr/pppp1ppp/8/3p4/3PP3/8/PPP2PPP/RNBQKBNR': 'd2d4,',\n",
       " 'rnbqkbnr/ppp2ppp/8/3p4/3PP3/2N5/PPPB1PPP/R2QKBNR': 'e4e5,',\n",
       " 'rnbqkbnr/ppp1pppp/8/3p4/2PP4/8/PP2PPPP/RNBQKBNR': 'c2c4,',\n",
       " 'rnbqkbnr/ppp1p1pp/8/3p4/2PP1B2/2N5/PP2PPPP/RNBQK1NR': 'e2e3,',\n",
       " 'rnbqkbnr/pppppppp/8/8/2PP4/2N5/PP2PPPP/R1BQKBNR': 'd2d4,',\n",
       " 'rnbqkbnr/pppppp1p/8/8/2PP4/2N2N2/PP2PPPP/R1BQKB1R': 'b1c3,',\n",
       " 'rnbqkbnr/pppppppp/8/4p3/4P3/5N2/PPPPPPPP/RNBQK1NR': 'f1c4,'}"
      ]
     },
     "execution_count": 10,
     "metadata": {},
     "output_type": "execute_result"
    }
   ],
   "source": [
    "open_dict = {}\n",
    "with open(\"w_openings.csv\", \"r\") as open_csv:\n",
    "    entry = open_csv.read().splitlines()\n",
    "    for i in range(len(entry)):\n",
    "        split = entry[i].split(\", \")\n",
    "        open_dict[split[0]] = split[1]\n",
    "open_dict\n",
    "# rnbqk1nr/pppppp1p/6p1/8/1P1N4/4P3/P1P2PP/RN1QKB1R"
   ]
  },
  {
   "cell_type": "code",
   "execution_count": 11,
   "id": "7fc6cd52",
   "metadata": {
    "execution": {
     "iopub.execute_input": "2024-12-04T19:09:05.539006Z",
     "iopub.status.busy": "2024-12-04T19:09:05.538605Z",
     "iopub.status.idle": "2024-12-04T19:09:28.624697Z",
     "shell.execute_reply": "2024-12-04T19:09:28.623551Z"
    },
    "papermill": {
     "duration": 23.093444,
     "end_time": "2024-12-04T19:09:28.627333",
     "exception": false,
     "start_time": "2024-12-04T19:09:05.533889",
     "status": "completed"
    },
    "tags": []
   },
   "outputs": [
    {
     "name": "stderr",
     "output_type": "stream",
     "text": [
      "/opt/miniconda3/lib/python3.12/site-packages/tqdm/auto.py:21: TqdmWarning: IProgress not found. Please update jupyter and ipywidgets. See https://ipywidgets.readthedocs.io/en/stable/user_install.html\n",
      "  from .autonotebook import tqdm as notebook_tqdm\n"
     ]
    },
    {
     "name": "stdout",
     "output_type": "stream",
     "text": [
      "termcolor not installed, skipping dependency\n",
      "No pygame installed, ignoring import\n"
     ]
    },
    {
     "name": "stderr",
     "output_type": "stream",
     "text": [
      "Matplotlib is building the font cache; this may take a moment.\n"
     ]
    }
   ],
   "source": [
    "# Now let's set up the chess environment!\n",
    "from kaggle_environments import make\n",
    "env = make(\"chess\", debug=True)"
   ]
  },
  {
   "cell_type": "markdown",
   "id": "a692dce2",
   "metadata": {
    "papermill": {
     "duration": 0.016769,
     "end_time": "2024-12-04T19:09:34.675598",
     "exception": false,
     "start_time": "2024-12-04T19:09:34.658829",
     "status": "completed"
    },
    "tags": []
   },
   "source": [
    "### Creating your first agent\n",
    "Now let's create your first agent! The environment has the [Chessnut](https://github.com/cgearhart/Chessnut) pip package installed and we'll use that to parse the board state and generate moves."
   ]
  },
  {
   "cell_type": "markdown",
   "id": "8f352d4a",
   "metadata": {
    "papermill": {
     "duration": 0.016664,
     "end_time": "2024-12-04T19:09:34.755165",
     "exception": false,
     "start_time": "2024-12-04T19:09:34.738501",
     "status": "completed"
    },
    "tags": []
   },
   "source": [
    "### Testing your agent\n",
    "\n",
    "Now let's see how your agent does againt the random agent!"
   ]
  },
  {
   "cell_type": "code",
   "execution_count": 15,
   "id": "7c8d8471",
   "metadata": {
    "execution": {
     "iopub.execute_input": "2024-12-04T19:09:34.791632Z",
     "iopub.status.busy": "2024-12-04T19:09:34.791182Z",
     "iopub.status.idle": "2024-12-04T19:09:41.349132Z",
     "shell.execute_reply": "2024-12-04T19:09:41.347748Z"
    },
    "papermill": {
     "duration": 6.58563,
     "end_time": "2024-12-04T19:09:41.357828",
     "exception": false,
     "start_time": "2024-12-04T19:09:34.772198",
     "status": "completed"
    },
    "tags": []
   },
   "outputs": [
    {
     "name": "stdout",
     "output_type": "stream",
     "text": [
      "{'remainingOverageTime': 10, 'step': 0, 'board': 'rnbqk1nr/ppppppbp/6p1/8/3P4/4PN2/PPP2PPP/RN1QKB1R w KQkq - 1 5', 'mark': 'white', 'opponentRemainingOverageTime': 10, 'lastMove': ''}\n",
      "{'remainingOverageTime': 9.978503, 'step': 2, 'board': 'rnbqk1nr/pppp1pbp/4p1p1/8/2BP4/4PN2/PPP2PPP/RN1QK2R w KQkq - 0 6', 'mark': 'white', 'opponentRemainingOverageTime': 10, 'lastMove': 'e7e6'}\n",
      "{'remainingOverageTime': 9.978503, 'step': 4, 'board': 'rnb1k1nr/pppp1pbp/4pqp1/8/3P4/1B2PN2/PPP2PPP/RN1QK2R w KQkq - 2 7', 'mark': 'white', 'opponentRemainingOverageTime': 9.982175, 'lastMove': 'd8f6'}\n",
      "{'remainingOverageTime': 9.978503, 'step': 6, 'board': 'rnb1k1nr/p1pp1pbp/4pqp1/1p2N3/3P4/1B2P3/PPP2PPP/RN1QK2R w KQkq b6 0 8', 'mark': 'white', 'opponentRemainingOverageTime': 9.982175, 'lastMove': 'b7b5'}\n",
      "{'remainingOverageTime': 9.978503, 'step': 8, 'board': 'rnb1k1nr/p1pp1pbp/4p1p1/1p4q1/3P2N1/1B2P3/PPP2PPP/RN1QK2R w KQkq - 2 9', 'mark': 'white', 'opponentRemainingOverageTime': 9.982175, 'lastMove': 'f6g5'}\n",
      "{'remainingOverageTime': 9.978503, 'step': 10, 'board': 'rnb1k1nr/p1pp2bp/4p1p1/1p3pq1/3P2N1/1B2P3/PPP2PPP/RN1QK1R1 w Qkq f6 0 10', 'mark': 'white', 'opponentRemainingOverageTime': 9.982175, 'lastMove': 'f7f5'}\n",
      "{'remainingOverageTime': 9.978503, 'step': 12, 'board': 'rnb1k1nr/p1p3bp/4p1p1/1p1pNpq1/3P4/1B2P3/PPP2PPP/RN1QK1R1 w Qkq d6 0 11', 'mark': 'white', 'opponentRemainingOverageTime': 9.982175, 'lastMove': 'd7d5'}\n",
      "{'remainingOverageTime': 9.978503, 'step': 14, 'board': 'rnb1k1nr/p1p3bp/4p1p1/1p1p1p2/3P2q1/1B2PN2/PPP2PPP/RN1QK1R1 w Qkq - 2 12', 'mark': 'white', 'opponentRemainingOverageTime': 9.982175, 'lastMove': 'g5g4'}\n",
      "{'remainingOverageTime': 9.978503, 'step': 16, 'board': 'rnb1k1nr/p1p3bp/4p1p1/1p3p2/2pP2q1/1B2PN2/PP3PPP/RN1QK1R1 w Qkq - 0 13', 'mark': 'white', 'opponentRemainingOverageTime': 9.982175, 'lastMove': 'd5c4'}\n",
      "{'remainingOverageTime': 9.978503, 'step': 18, 'board': 'rnb1k1nr/p1p3bp/4p1p1/1p3p2/2pPq3/1B3N2/PP3PPP/RN1QK1R1 w Qkq - 0 14', 'mark': 'white', 'opponentRemainingOverageTime': 9.982175, 'lastMove': 'g4e4'}\n",
      "{'remainingOverageTime': 9.978503, 'step': 20, 'board': 'rnb1k1nr/p1p3bp/4p1p1/1p3p2/3Pq3/1p3N2/PP2QPPP/RN2K1R1 w Qkq - 0 15', 'mark': 'white', 'opponentRemainingOverageTime': 9.982175, 'lastMove': 'c4b3'}\n",
      "{'remainingOverageTime': 9.978503, 'step': 22, 'board': 'rnb1k1nr/p1p4p/4p1p1/1p3p2/3bq3/1P3N2/1P2QPPP/RN2K1R1 w Qkq - 0 16', 'mark': 'white', 'opponentRemainingOverageTime': 9.982175, 'lastMove': 'g7d4'}\n",
      "{'remainingOverageTime': 9.978503, 'step': 24, 'board': 'rnb1k1nr/p1p4p/4p1p1/1p3p2/3q4/1P6/1P2QPPP/RN2K1R1 w Qkq - 0 17', 'mark': 'white', 'opponentRemainingOverageTime': 9.982175, 'lastMove': 'e4d4'}\n",
      "{'remainingOverageTime': 9.978503, 'step': 26, 'board': 'rnb1k1nr/p6p/2p1p1p1/1Q3p2/3q4/1P6/1P3PPP/RN2K1R1 w Qkq - 0 18', 'mark': 'white', 'opponentRemainingOverageTime': 9.982175, 'lastMove': 'c7c6'}\n",
      "{'remainingOverageTime': 9.978503, 'step': 28, 'board': 'rnb1k1nr/R6p/2p1p1p1/1Q3p2/4q3/1P6/1P3PPP/1N2K1R1 w kq - 1 19', 'mark': 'white', 'opponentRemainingOverageTime': 9.982175, 'lastMove': 'd4e4'}\n",
      "{'remainingOverageTime': 9.978503, 'step': 30, 'board': 'rnb1k1nr/R6p/2p1p1p1/5p2/8/1P6/1P2QPPP/1q2K1R1 w kq - 0 20', 'mark': 'white', 'opponentRemainingOverageTime': 9.982175, 'lastMove': 'e4b1'}\n",
      "{'remainingOverageTime': 9.978503, 'step': 32, 'board': 'rnb1k1nr/R6p/2p1p1p1/5p2/4q3/1P6/1P3PPP/3QK1R1 w kq - 2 21', 'mark': 'white', 'opponentRemainingOverageTime': 9.982175, 'lastMove': 'b1e4'}\n",
      "{'remainingOverageTime': 9.978503, 'step': 34, 'board': '1nb1k1nr/r6p/2p1p1p1/5p2/4q3/1P6/1P2QPPP/4K1R1 w k - 0 22', 'mark': 'white', 'opponentRemainingOverageTime': 9.982175, 'lastMove': 'a8a7'}\n",
      "{'remainingOverageTime': 9.978503, 'step': 36, 'board': '1nb1k1nr/7p/2p1p1p1/5p2/4q1P1/1P6/1P2QP1P/r3K1R1 w k - 1 23', 'mark': 'white', 'opponentRemainingOverageTime': 9.982175, 'lastMove': 'a7a1'}\n"
     ]
    },
    {
     "ename": "KeyboardInterrupt",
     "evalue": "",
     "output_type": "error",
     "traceback": [
      "\u001b[0;31m---------------------------------------------------------------------------\u001b[0m",
      "\u001b[0;31mKeyboardInterrupt\u001b[0m                         Traceback (most recent call last)",
      "Cell \u001b[0;32mIn[15], line 1\u001b[0m\n\u001b[0;32m----> 1\u001b[0m result \u001b[38;5;241m=\u001b[39m \u001b[43menv\u001b[49m\u001b[38;5;241;43m.\u001b[39;49m\u001b[43mrun\u001b[49m\u001b[43m(\u001b[49m\u001b[43m[\u001b[49m\u001b[38;5;124;43m\"\u001b[39;49m\u001b[38;5;124;43mbot1_clean_modded.py\u001b[39;49m\u001b[38;5;124;43m\"\u001b[39;49m\u001b[43m,\u001b[49m\u001b[43m \u001b[49m\u001b[38;5;124;43m\"\u001b[39;49m\u001b[38;5;124;43mbot1_clean_tiny.py\u001b[39;49m\u001b[38;5;124;43m\"\u001b[39;49m\u001b[43m]\u001b[49m\u001b[43m)\u001b[49m\n\u001b[1;32m      2\u001b[0m \u001b[38;5;28mprint\u001b[39m(\u001b[38;5;124m\"\u001b[39m\u001b[38;5;124mAgent exit status/reward/time left: \u001b[39m\u001b[38;5;124m\"\u001b[39m)\n\u001b[1;32m      3\u001b[0m \u001b[38;5;66;03m# look at the generated replay.json and print out the agent info\u001b[39;00m\n",
      "File \u001b[0;32m/opt/miniconda3/lib/python3.12/site-packages/kaggle_environments/core.py:267\u001b[0m, in \u001b[0;36mEnvironment.run\u001b[0;34m(self, agents)\u001b[0m\n\u001b[1;32m    265\u001b[0m start \u001b[38;5;241m=\u001b[39m perf_counter()\n\u001b[1;32m    266\u001b[0m \u001b[38;5;28;01mwhile\u001b[39;00m \u001b[38;5;129;01mnot\u001b[39;00m \u001b[38;5;28mself\u001b[39m\u001b[38;5;241m.\u001b[39mdone \u001b[38;5;129;01mand\u001b[39;00m perf_counter() \u001b[38;5;241m-\u001b[39m start \u001b[38;5;241m<\u001b[39m \u001b[38;5;28mself\u001b[39m\u001b[38;5;241m.\u001b[39mconfiguration\u001b[38;5;241m.\u001b[39mrunTimeout:\n\u001b[0;32m--> 267\u001b[0m     actions, logs \u001b[38;5;241m=\u001b[39m \u001b[43mrunner\u001b[49m\u001b[38;5;241;43m.\u001b[39;49m\u001b[43mact\u001b[49m\u001b[43m(\u001b[49m\u001b[43m)\u001b[49m\n\u001b[1;32m    268\u001b[0m     \u001b[38;5;28mself\u001b[39m\u001b[38;5;241m.\u001b[39mstep(actions, logs)\n\u001b[1;32m    269\u001b[0m \u001b[38;5;28;01mif\u001b[39;00m \u001b[38;5;129;01mnot\u001b[39;00m \u001b[38;5;28mself\u001b[39m\u001b[38;5;241m.\u001b[39mdone \u001b[38;5;129;01mand\u001b[39;00m perf_counter() \u001b[38;5;241m-\u001b[39m start \u001b[38;5;241m>\u001b[39m\u001b[38;5;241m=\u001b[39m \u001b[38;5;28mself\u001b[39m\u001b[38;5;241m.\u001b[39mconfiguration\u001b[38;5;241m.\u001b[39mrunTimeout:\n",
      "File \u001b[0;32m/opt/miniconda3/lib/python3.12/site-packages/kaggle_environments/core.py:697\u001b[0m, in \u001b[0;36mEnvironment.__agent_runner.<locals>.act\u001b[0;34m(none_action)\u001b[0m\n\u001b[1;32m    695\u001b[0m     results \u001b[38;5;241m=\u001b[39m \u001b[38;5;28mself\u001b[39m\u001b[38;5;241m.\u001b[39mpool\u001b[38;5;241m.\u001b[39mmap(act_agent, act_args)\n\u001b[1;32m    696\u001b[0m \u001b[38;5;28;01melse\u001b[39;00m:\n\u001b[0;32m--> 697\u001b[0m     results \u001b[38;5;241m=\u001b[39m \u001b[38;5;28;43mlist\u001b[39;49m\u001b[43m(\u001b[49m\u001b[38;5;28;43mmap\u001b[39;49m\u001b[43m(\u001b[49m\u001b[43mact_agent\u001b[49m\u001b[43m,\u001b[49m\u001b[43m \u001b[49m\u001b[43mact_args\u001b[49m\u001b[43m)\u001b[49m\u001b[43m)\u001b[49m\n\u001b[1;32m    699\u001b[0m \u001b[38;5;66;03m# results is a list of tuples where the first element is an agent action and the second is the agent log\u001b[39;00m\n\u001b[1;32m    700\u001b[0m \u001b[38;5;66;03m# This destructures into two lists, a list of actions and a list of logs.\u001b[39;00m\n\u001b[1;32m    701\u001b[0m actions, logs \u001b[38;5;241m=\u001b[39m \u001b[38;5;28mzip\u001b[39m(\u001b[38;5;241m*\u001b[39mresults)\n",
      "File \u001b[0;32m/opt/miniconda3/lib/python3.12/site-packages/kaggle_environments/core.py:118\u001b[0m, in \u001b[0;36mact_agent\u001b[0;34m(args)\u001b[0m\n\u001b[1;32m    116\u001b[0m     \u001b[38;5;28;01mreturn\u001b[39;00m none_action, {}\n\u001b[1;32m    117\u001b[0m \u001b[38;5;28;01melse\u001b[39;00m:\n\u001b[0;32m--> 118\u001b[0m     \u001b[38;5;28;01mreturn\u001b[39;00m \u001b[43magent\u001b[49m\u001b[38;5;241;43m.\u001b[39;49m\u001b[43mact\u001b[49m\u001b[43m(\u001b[49m\u001b[43mstate\u001b[49m\u001b[43m[\u001b[49m\u001b[38;5;124;43m\"\u001b[39;49m\u001b[38;5;124;43mobservation\u001b[39;49m\u001b[38;5;124;43m\"\u001b[39;49m\u001b[43m]\u001b[49m\u001b[43m)\u001b[49m\n",
      "File \u001b[0;32m/opt/miniconda3/lib/python3.12/site-packages/kaggle_environments/agent.py:169\u001b[0m, in \u001b[0;36mAgent.act\u001b[0;34m(self, observation)\u001b[0m\n\u001b[1;32m    167\u001b[0m \u001b[38;5;28;01mtry\u001b[39;00m:\n\u001b[1;32m    168\u001b[0m     start \u001b[38;5;241m=\u001b[39m perf_counter()\n\u001b[0;32m--> 169\u001b[0m     action \u001b[38;5;241m=\u001b[39m \u001b[38;5;28;43mself\u001b[39;49m\u001b[38;5;241;43m.\u001b[39;49m\u001b[43magent\u001b[49m\u001b[43m(\u001b[49m\u001b[38;5;241;43m*\u001b[39;49m\u001b[43margs\u001b[49m\u001b[43m)\u001b[49m\n\u001b[1;32m    170\u001b[0m \u001b[38;5;28;01mexcept\u001b[39;00m \u001b[38;5;167;01mException\u001b[39;00m \u001b[38;5;28;01mas\u001b[39;00m e:\n\u001b[1;32m    171\u001b[0m     traceback\u001b[38;5;241m.\u001b[39mprint_exc(file\u001b[38;5;241m=\u001b[39merr_buffer)\n",
      "File \u001b[0;32m/opt/miniconda3/lib/python3.12/site-packages/kaggle_environments/agent.py:140\u001b[0m, in \u001b[0;36mbuild_agent.<locals>.callable_agent\u001b[0;34m(observation, configuration)\u001b[0m\n\u001b[1;32m    137\u001b[0m args \u001b[38;5;241m=\u001b[39m [observation, configuration]\n\u001b[1;32m    138\u001b[0m args \u001b[38;5;241m=\u001b[39m args[:agent\u001b[38;5;241m.\u001b[39m\u001b[38;5;18m__code__\u001b[39m\u001b[38;5;241m.\u001b[39mco_argcount]\n\u001b[1;32m    139\u001b[0m \u001b[38;5;28;01mreturn\u001b[39;00m \\\n\u001b[0;32m--> 140\u001b[0m     \u001b[43magent\u001b[49m\u001b[43m(\u001b[49m\u001b[38;5;241;43m*\u001b[39;49m\u001b[43margs\u001b[49m\u001b[43m)\u001b[49m \\\n\u001b[1;32m    141\u001b[0m     \u001b[38;5;28;01mif\u001b[39;00m \u001b[38;5;28mcallable\u001b[39m(agent) \\\n\u001b[1;32m    142\u001b[0m     \u001b[38;5;28;01melse\u001b[39;00m agent\n",
      "File \u001b[0;32m/Volumes/T7/Mac2025/Documents/PythonScripts/Chess/Cython_test/bot1_clean_modded.py:1338\u001b[0m, in \u001b[0;36mchess_bot\u001b[0;34m(obs)\u001b[0m\n\u001b[1;32m   1335\u001b[0m \u001b[38;5;28;01mif\u001b[39;00m \u001b[38;5;124m\"\u001b[39m\u001b[38;5;124me8g8\u001b[39m\u001b[38;5;124m\"\u001b[39m \u001b[38;5;129;01min\u001b[39;00m legal_moves: \u001b[38;5;28;01mreturn\u001b[39;00m \u001b[38;5;124m\"\u001b[39m\u001b[38;5;124me8g8\u001b[39m\u001b[38;5;124m\"\u001b[39m\n\u001b[1;32m   1336\u001b[0m \u001b[38;5;28;01mif\u001b[39;00m \u001b[38;5;124m\"\u001b[39m\u001b[38;5;124me8b8\u001b[39m\u001b[38;5;124m\"\u001b[39m \u001b[38;5;129;01min\u001b[39;00m legal_moves: \u001b[38;5;28;01mreturn\u001b[39;00m \u001b[38;5;124m\"\u001b[39m\u001b[38;5;124me8b8\u001b[39m\u001b[38;5;124m\"\u001b[39m\n\u001b[0;32m-> 1338\u001b[0m _, move \u001b[38;5;241m=\u001b[39m \u001b[43mminimax\u001b[49m\u001b[43m(\u001b[49m\n\u001b[1;32m   1339\u001b[0m \u001b[43m    \u001b[49m\u001b[43mgame\u001b[49m\u001b[43m,\u001b[49m\n\u001b[1;32m   1340\u001b[0m \u001b[43m    \u001b[49m\u001b[43mdepth\u001b[49m\u001b[38;5;241;43m=\u001b[39;49m\u001b[43mmax_depth\u001b[49m\u001b[43m,\u001b[49m\n\u001b[1;32m   1341\u001b[0m \u001b[43m    \u001b[49m\u001b[43malpha\u001b[49m\u001b[38;5;241;43m=\u001b[39;49m\u001b[38;5;241;43m-\u001b[39;49m\u001b[38;5;28;43mfloat\u001b[39;49m\u001b[43m(\u001b[49m\u001b[38;5;124;43m\"\u001b[39;49m\u001b[38;5;124;43minf\u001b[39;49m\u001b[38;5;124;43m\"\u001b[39;49m\u001b[43m)\u001b[49m\u001b[43m,\u001b[49m\n\u001b[1;32m   1342\u001b[0m \u001b[43m    \u001b[49m\u001b[43mbeta\u001b[49m\u001b[38;5;241;43m=\u001b[39;49m\u001b[38;5;28;43mfloat\u001b[39;49m\u001b[43m(\u001b[49m\u001b[38;5;124;43m\"\u001b[39;49m\u001b[38;5;124;43minf\u001b[39;49m\u001b[38;5;124;43m\"\u001b[39;49m\u001b[43m)\u001b[49m\u001b[43m,\u001b[49m\n\u001b[1;32m   1343\u001b[0m \u001b[43m    \u001b[49m\u001b[43mmaximizingPlayer\u001b[49m\u001b[38;5;241;43m=\u001b[39;49m\u001b[43mgame\u001b[49m\u001b[38;5;241;43m.\u001b[39;49m\u001b[43mturn\u001b[49m\u001b[43m,\u001b[49m\n\u001b[1;32m   1344\u001b[0m \u001b[43m\u001b[49m\u001b[43m)\u001b[49m\n\u001b[1;32m   1346\u001b[0m \u001b[38;5;28;01mif\u001b[39;00m move \u001b[38;5;129;01mis\u001b[39;00m \u001b[38;5;28;01mNone\u001b[39;00m: move \u001b[38;5;241m=\u001b[39m random\u001b[38;5;241m.\u001b[39mchoice(legal_moves)\n\u001b[1;32m   1348\u001b[0m \u001b[38;5;28;01mreturn\u001b[39;00m \u001b[38;5;28mstr\u001b[39m(move)\n",
      "File \u001b[0;32m/Volumes/T7/Mac2025/Documents/PythonScripts/Chess/Cython_test/bot1_clean_modded.py:1300\u001b[0m, in \u001b[0;36mminimax\u001b[0;34m(state, depth, alpha, beta, maximizingPlayer)\u001b[0m\n\u001b[1;32m   1298\u001b[0m \u001b[38;5;28;01mfor\u001b[39;00m move \u001b[38;5;129;01min\u001b[39;00m moves:\n\u001b[1;32m   1299\u001b[0m     state\u001b[38;5;241m.\u001b[39mpush(move)\n\u001b[0;32m-> 1300\u001b[0m     value, _ \u001b[38;5;241m=\u001b[39m \u001b[43mminimax\u001b[49m\u001b[43m(\u001b[49m\u001b[43mstate\u001b[49m\u001b[43m,\u001b[49m\u001b[43m \u001b[49m\u001b[43mdepth\u001b[49m\u001b[43m \u001b[49m\u001b[38;5;241;43m-\u001b[39;49m\u001b[43m \u001b[49m\u001b[38;5;241;43m1\u001b[39;49m\u001b[43m,\u001b[49m\u001b[43m \u001b[49m\u001b[43malpha\u001b[49m\u001b[43m,\u001b[49m\u001b[43m \u001b[49m\u001b[43mbeta\u001b[49m\u001b[43m,\u001b[49m\u001b[43m \u001b[49m\u001b[38;5;129;43;01mnot\u001b[39;49;00m\u001b[43m \u001b[49m\u001b[43mmaximizingPlayer\u001b[49m\u001b[43m)\u001b[49m\n\u001b[1;32m   1301\u001b[0m     state\u001b[38;5;241m.\u001b[39mpop()\n\u001b[1;32m   1302\u001b[0m     \u001b[38;5;28;01mif\u001b[39;00m maximizingPlayer:\n",
      "File \u001b[0;32m/Volumes/T7/Mac2025/Documents/PythonScripts/Chess/Cython_test/bot1_clean_modded.py:1300\u001b[0m, in \u001b[0;36mminimax\u001b[0;34m(state, depth, alpha, beta, maximizingPlayer)\u001b[0m\n\u001b[1;32m   1298\u001b[0m \u001b[38;5;28;01mfor\u001b[39;00m move \u001b[38;5;129;01min\u001b[39;00m moves:\n\u001b[1;32m   1299\u001b[0m     state\u001b[38;5;241m.\u001b[39mpush(move)\n\u001b[0;32m-> 1300\u001b[0m     value, _ \u001b[38;5;241m=\u001b[39m \u001b[43mminimax\u001b[49m\u001b[43m(\u001b[49m\u001b[43mstate\u001b[49m\u001b[43m,\u001b[49m\u001b[43m \u001b[49m\u001b[43mdepth\u001b[49m\u001b[43m \u001b[49m\u001b[38;5;241;43m-\u001b[39;49m\u001b[43m \u001b[49m\u001b[38;5;241;43m1\u001b[39;49m\u001b[43m,\u001b[49m\u001b[43m \u001b[49m\u001b[43malpha\u001b[49m\u001b[43m,\u001b[49m\u001b[43m \u001b[49m\u001b[43mbeta\u001b[49m\u001b[43m,\u001b[49m\u001b[43m \u001b[49m\u001b[38;5;129;43;01mnot\u001b[39;49;00m\u001b[43m \u001b[49m\u001b[43mmaximizingPlayer\u001b[49m\u001b[43m)\u001b[49m\n\u001b[1;32m   1301\u001b[0m     state\u001b[38;5;241m.\u001b[39mpop()\n\u001b[1;32m   1302\u001b[0m     \u001b[38;5;28;01mif\u001b[39;00m maximizingPlayer:\n",
      "File \u001b[0;32m/Volumes/T7/Mac2025/Documents/PythonScripts/Chess/Cython_test/bot1_clean_modded.py:1300\u001b[0m, in \u001b[0;36mminimax\u001b[0;34m(state, depth, alpha, beta, maximizingPlayer)\u001b[0m\n\u001b[1;32m   1298\u001b[0m \u001b[38;5;28;01mfor\u001b[39;00m move \u001b[38;5;129;01min\u001b[39;00m moves:\n\u001b[1;32m   1299\u001b[0m     state\u001b[38;5;241m.\u001b[39mpush(move)\n\u001b[0;32m-> 1300\u001b[0m     value, _ \u001b[38;5;241m=\u001b[39m \u001b[43mminimax\u001b[49m\u001b[43m(\u001b[49m\u001b[43mstate\u001b[49m\u001b[43m,\u001b[49m\u001b[43m \u001b[49m\u001b[43mdepth\u001b[49m\u001b[43m \u001b[49m\u001b[38;5;241;43m-\u001b[39;49m\u001b[43m \u001b[49m\u001b[38;5;241;43m1\u001b[39;49m\u001b[43m,\u001b[49m\u001b[43m \u001b[49m\u001b[43malpha\u001b[49m\u001b[43m,\u001b[49m\u001b[43m \u001b[49m\u001b[43mbeta\u001b[49m\u001b[43m,\u001b[49m\u001b[43m \u001b[49m\u001b[38;5;129;43;01mnot\u001b[39;49;00m\u001b[43m \u001b[49m\u001b[43mmaximizingPlayer\u001b[49m\u001b[43m)\u001b[49m\n\u001b[1;32m   1301\u001b[0m     state\u001b[38;5;241m.\u001b[39mpop()\n\u001b[1;32m   1302\u001b[0m     \u001b[38;5;28;01mif\u001b[39;00m maximizingPlayer:\n",
      "File \u001b[0;32m/Volumes/T7/Mac2025/Documents/PythonScripts/Chess/Cython_test/bot1_clean_modded.py:1281\u001b[0m, in \u001b[0;36mminimax\u001b[0;34m(state, depth, alpha, beta, maximizingPlayer)\u001b[0m\n\u001b[1;32m   1278\u001b[0m \u001b[38;5;28;01mglobal\u001b[39;00m start_time, time_limit\n\u001b[1;32m   1280\u001b[0m \u001b[38;5;28;01mif\u001b[39;00m ((time\u001b[38;5;241m.\u001b[39mtime() \u001b[38;5;241m-\u001b[39m start_time) \u001b[38;5;241m>\u001b[39m time_limit) \u001b[38;5;129;01mor\u001b[39;00m (depth \u001b[38;5;241m==\u001b[39m \u001b[38;5;241m0\u001b[39m):\n\u001b[0;32m-> 1281\u001b[0m     \u001b[38;5;28;01mreturn\u001b[39;00m \u001b[43mcalc_heuristic\u001b[49m\u001b[43m(\u001b[49m\u001b[43mstate\u001b[49m\u001b[43m,\u001b[49m\u001b[43m \u001b[49m\u001b[43mmaximizingPlayer\u001b[49m\u001b[43m)\u001b[49m, \u001b[38;5;28;01mNone\u001b[39;00m\n\u001b[1;32m   1283\u001b[0m best_move \u001b[38;5;241m=\u001b[39m \u001b[38;5;28;01mNone\u001b[39;00m\n\u001b[1;32m   1285\u001b[0m moves \u001b[38;5;241m=\u001b[39m \u001b[38;5;28mlist\u001b[39m(state\u001b[38;5;241m.\u001b[39mlegal_moves)\n",
      "File \u001b[0;32m/Volumes/T7/Mac2025/Documents/PythonScripts/Chess/Cython_test/bot1_clean_modded.py:1274\u001b[0m, in \u001b[0;36mcalc_heuristic\u001b[0;34m(state, isWhite)\u001b[0m\n\u001b[1;32m   1271\u001b[0m     \u001b[38;5;28;01mreturn\u001b[39;00m \u001b[38;5;241m0\u001b[39m\n\u001b[1;32m   1273\u001b[0m turn \u001b[38;5;241m=\u001b[39m \u001b[38;5;124m\"\u001b[39m\u001b[38;5;124mw\u001b[39m\u001b[38;5;124m\"\u001b[39m \u001b[38;5;28;01mif\u001b[39;00m isWhite \u001b[38;5;28;01melse\u001b[39;00m \u001b[38;5;124m\"\u001b[39m\u001b[38;5;124mb\u001b[39m\u001b[38;5;124m\"\u001b[39m\n\u001b[0;32m-> 1274\u001b[0m \u001b[38;5;28;01mreturn\u001b[39;00m \u001b[43mget_value\u001b[49m\u001b[43m(\u001b[49m\u001b[43mstate\u001b[49m\u001b[38;5;241;43m.\u001b[39;49m\u001b[43mboard_fen\u001b[49m\u001b[43m(\u001b[49m\u001b[43m)\u001b[49m\u001b[43m \u001b[49m\u001b[38;5;241;43m+\u001b[39;49m\u001b[43m \u001b[49m\u001b[38;5;124;43m\"\u001b[39;49m\u001b[38;5;124;43m \u001b[39;49m\u001b[38;5;124;43m\"\u001b[39;49m\u001b[43m \u001b[49m\u001b[38;5;241;43m+\u001b[39;49m\u001b[43m \u001b[49m\u001b[43mturn\u001b[49m\u001b[43m)\u001b[49m\n",
      "\u001b[0;31mKeyboardInterrupt\u001b[0m: "
     ]
    }
   ],
   "source": [
    "result = env.run([\"bot1_clean_modded.py\", \"bot1_clean_tiny.py\"])\n",
    "print(\"Agent exit status/reward/time left: \")\n",
    "# look at the generated replay.json and print out the agent info\n",
    "for agent in result[-1]:\n",
    "    print(\"\\t\", agent.status, \"/\", agent.reward, \"/\", agent.observation.remainingOverageTime)\n",
    "print(\"\\n\")\n",
    "# render the game\n",
    "env.render(mode=\"ipython\", width=600, height=600)"
   ]
  },
  {
   "cell_type": "markdown",
   "id": "fe462fa7",
   "metadata": {
    "papermill": {
     "duration": 0.030676,
     "end_time": "2024-12-04T19:09:41.419846",
     "exception": false,
     "start_time": "2024-12-04T19:09:41.389170",
     "status": "completed"
    },
    "tags": []
   },
   "source": [
    "# To Submit:\n",
    "1. Download (or save) main.py\n",
    "2. Go to the [submissions page](https://www.kaggle.com/competitions/fide-google-efficiency-chess-ai-challenge/submissions) and click \"Submit Agent\"\n",
    "3. Upload main.py\n",
    "4. Press Submit!\n",
    "\n",
    "Now doubt you are already thinking of ways this bot could be improved! Go ahead and fork this notebook and get started! ♟️"
   ]
  },
  {
   "cell_type": "markdown",
   "id": "557032ab",
   "metadata": {
    "papermill": {
     "duration": 0.028894,
     "end_time": "2024-12-04T19:09:41.477301",
     "exception": false,
     "start_time": "2024-12-04T19:09:41.448407",
     "status": "completed"
    },
    "tags": []
   },
   "source": [
    "# Submitting Multiple files \n",
    "### (or compressing your main.py)\n",
    "\n",
    "Set up your directory structure like this:\n",
    "```\n",
    "kaggle_submissions/\n",
    "  main.py\n",
    "  <other files as desired>\n",
    "```\n",
    "\n",
    "You can run `tar -czf submission.tar.gz -C kaggle_submissions .` and upload `submission.tar.gz`"
   ]
  }
 ],
 "metadata": {
  "kaggle": {
   "accelerator": "none",
   "dataSources": [
    {
     "databundleVersionId": 9818394,
     "sourceId": 86524,
     "sourceType": "competition"
    }
   ],
   "isGpuEnabled": false,
   "isInternetEnabled": true,
   "language": "python",
   "sourceType": "notebook"
  },
  "kernelspec": {
   "display_name": "base",
   "language": "python",
   "name": "python3"
  },
  "language_info": {
   "codemirror_mode": {
    "name": "ipython",
    "version": 3
   },
   "file_extension": ".py",
   "mimetype": "text/x-python",
   "name": "python",
   "nbconvert_exporter": "python",
   "pygments_lexer": "ipython3",
   "version": "3.12.2"
  },
  "papermill": {
   "default_parameters": {},
   "duration": 53.493361,
   "end_time": "2024-12-04T19:09:44.041252",
   "environment_variables": {},
   "exception": null,
   "input_path": "__notebook__.ipynb",
   "output_path": "__notebook__.ipynb",
   "parameters": {},
   "start_time": "2024-12-04T19:08:50.547891",
   "version": "2.6.0"
  }
 },
 "nbformat": 4,
 "nbformat_minor": 5
}
